{
  "cells": [
    {
      "cell_type": "markdown",
      "metadata": {
        "colab_type": "text",
        "id": "view-in-github"
      },
      "source": [
        "<a href=\"https://colab.research.google.com/github/hadiprasetiyo/posttest2_datamining/blob/master/B_2109116070_POSTTEST2.ipynb\" target=\"_parent\"><img src=\"https://colab.research.google.com/assets/colab-badge.svg\" alt=\"Open In Colab\"/></a>"
      ]
    },
    {
      "cell_type": "markdown",
      "metadata": {
        "id": "-0zOQSl3wlwj"
      },
      "source": [
        "# (1) Apriori"
      ]
    },
    {
      "cell_type": "markdown",
      "metadata": {
        "id": "h-to2rkExJxa"
      },
      "source": [
        "Gunakan dataset ini : https://drive.google.com/file/d/1BqC-2d1ZYqFIFwdjdsW5bAAqNFh2AO4C/view?usp=share_link\n",
        "\n",
        "Dan buatlah daftar support dan confidence untuk 2 item set dengan menggunakan dataset tersebut (hint : buatlah tabel tabulasi terlebih dahulu untuk memudahkan)\n",
        "\n"
      ]
    },
    {
      "cell_type": "code",
      "execution_count": 3,
      "metadata": {
        "id": "lCqDE1rBRbpS"
      },
      "outputs": [
        {
          "ename": "ModuleNotFoundError",
          "evalue": "No module named 'seaborn'",
          "output_type": "error",
          "traceback": [
            "\u001b[1;31m---------------------------------------------------------------------------\u001b[0m",
            "\u001b[1;31mModuleNotFoundError\u001b[0m                       Traceback (most recent call last)",
            "Input \u001b[1;32mIn [3]\u001b[0m, in \u001b[0;36m<cell line: 2>\u001b[1;34m()\u001b[0m\n\u001b[0;32m      1\u001b[0m \u001b[38;5;28;01mimport\u001b[39;00m \u001b[38;5;21;01mpandas\u001b[39;00m \u001b[38;5;28;01mas\u001b[39;00m \u001b[38;5;21;01mpd\u001b[39;00m\n\u001b[1;32m----> 2\u001b[0m \u001b[38;5;28;01mimport\u001b[39;00m \u001b[38;5;21;01mseaborn\u001b[39;00m \u001b[38;5;28;01mas\u001b[39;00m \u001b[38;5;21;01msns\u001b[39;00m\n",
            "\u001b[1;31mModuleNotFoundError\u001b[0m: No module named 'seaborn'"
          ]
        }
      ],
      "source": [
        "import pandas as pd\n",
        "import seaborn as sns"
      ]
    },
    {
      "cell_type": "code",
      "execution_count": 3,
      "metadata": {
        "colab": {
          "base_uri": "https://localhost:8080/",
          "height": 321
        },
        "id": "NAdZme8dRTor",
        "outputId": "12d15891-94fe-46df-a1b9-cf2c960d1a5a"
      },
      "outputs": [
        {
          "ename": "FileNotFoundError",
          "evalue": "[Errno 2] No such file or directory: 'dataset_market_basket.csv'",
          "output_type": "error",
          "traceback": [
            "\u001b[0;31m---------------------------------------------------------------------------\u001b[0m",
            "\u001b[0;31mFileNotFoundError\u001b[0m                         Traceback (most recent call last)",
            "\u001b[0;32m<ipython-input-3-a92fa1c856c3>\u001b[0m in \u001b[0;36m<cell line: 1>\u001b[0;34m()\u001b[0m\n\u001b[0;32m----> 1\u001b[0;31m \u001b[0mdf\u001b[0m \u001b[0;34m=\u001b[0m \u001b[0mpd\u001b[0m\u001b[0;34m.\u001b[0m\u001b[0mread_csv\u001b[0m\u001b[0;34m(\u001b[0m\u001b[0;34m\"dataset_market_basket.csv\"\u001b[0m\u001b[0;34m)\u001b[0m\u001b[0;34m\u001b[0m\u001b[0;34m\u001b[0m\u001b[0m\n\u001b[0m\u001b[1;32m      2\u001b[0m \u001b[0mdf\u001b[0m\u001b[0;34m\u001b[0m\u001b[0;34m\u001b[0m\u001b[0m\n",
            "\u001b[0;32m/usr/local/lib/python3.10/dist-packages/pandas/io/parsers/readers.py\u001b[0m in \u001b[0;36mread_csv\u001b[0;34m(filepath_or_buffer, sep, delimiter, header, names, index_col, usecols, dtype, engine, converters, true_values, false_values, skipinitialspace, skiprows, skipfooter, nrows, na_values, keep_default_na, na_filter, verbose, skip_blank_lines, parse_dates, infer_datetime_format, keep_date_col, date_parser, date_format, dayfirst, cache_dates, iterator, chunksize, compression, thousands, decimal, lineterminator, quotechar, quoting, doublequote, escapechar, comment, encoding, encoding_errors, dialect, on_bad_lines, delim_whitespace, low_memory, memory_map, float_precision, storage_options, dtype_backend)\u001b[0m\n\u001b[1;32m    910\u001b[0m     \u001b[0mkwds\u001b[0m\u001b[0;34m.\u001b[0m\u001b[0mupdate\u001b[0m\u001b[0;34m(\u001b[0m\u001b[0mkwds_defaults\u001b[0m\u001b[0;34m)\u001b[0m\u001b[0;34m\u001b[0m\u001b[0;34m\u001b[0m\u001b[0m\n\u001b[1;32m    911\u001b[0m \u001b[0;34m\u001b[0m\u001b[0m\n\u001b[0;32m--> 912\u001b[0;31m     \u001b[0;32mreturn\u001b[0m \u001b[0m_read\u001b[0m\u001b[0;34m(\u001b[0m\u001b[0mfilepath_or_buffer\u001b[0m\u001b[0;34m,\u001b[0m \u001b[0mkwds\u001b[0m\u001b[0;34m)\u001b[0m\u001b[0;34m\u001b[0m\u001b[0;34m\u001b[0m\u001b[0m\n\u001b[0m\u001b[1;32m    913\u001b[0m \u001b[0;34m\u001b[0m\u001b[0m\n\u001b[1;32m    914\u001b[0m \u001b[0;34m\u001b[0m\u001b[0m\n",
            "\u001b[0;32m/usr/local/lib/python3.10/dist-packages/pandas/io/parsers/readers.py\u001b[0m in \u001b[0;36m_read\u001b[0;34m(filepath_or_buffer, kwds)\u001b[0m\n\u001b[1;32m    575\u001b[0m \u001b[0;34m\u001b[0m\u001b[0m\n\u001b[1;32m    576\u001b[0m     \u001b[0;31m# Create the parser.\u001b[0m\u001b[0;34m\u001b[0m\u001b[0;34m\u001b[0m\u001b[0m\n\u001b[0;32m--> 577\u001b[0;31m     \u001b[0mparser\u001b[0m \u001b[0;34m=\u001b[0m \u001b[0mTextFileReader\u001b[0m\u001b[0;34m(\u001b[0m\u001b[0mfilepath_or_buffer\u001b[0m\u001b[0;34m,\u001b[0m \u001b[0;34m**\u001b[0m\u001b[0mkwds\u001b[0m\u001b[0;34m)\u001b[0m\u001b[0;34m\u001b[0m\u001b[0;34m\u001b[0m\u001b[0m\n\u001b[0m\u001b[1;32m    578\u001b[0m \u001b[0;34m\u001b[0m\u001b[0m\n\u001b[1;32m    579\u001b[0m     \u001b[0;32mif\u001b[0m \u001b[0mchunksize\u001b[0m \u001b[0;32mor\u001b[0m \u001b[0miterator\u001b[0m\u001b[0;34m:\u001b[0m\u001b[0;34m\u001b[0m\u001b[0;34m\u001b[0m\u001b[0m\n",
            "\u001b[0;32m/usr/local/lib/python3.10/dist-packages/pandas/io/parsers/readers.py\u001b[0m in \u001b[0;36m__init__\u001b[0;34m(self, f, engine, **kwds)\u001b[0m\n\u001b[1;32m   1405\u001b[0m \u001b[0;34m\u001b[0m\u001b[0m\n\u001b[1;32m   1406\u001b[0m         \u001b[0mself\u001b[0m\u001b[0;34m.\u001b[0m\u001b[0mhandles\u001b[0m\u001b[0;34m:\u001b[0m \u001b[0mIOHandles\u001b[0m \u001b[0;34m|\u001b[0m \u001b[0;32mNone\u001b[0m \u001b[0;34m=\u001b[0m \u001b[0;32mNone\u001b[0m\u001b[0;34m\u001b[0m\u001b[0;34m\u001b[0m\u001b[0m\n\u001b[0;32m-> 1407\u001b[0;31m         \u001b[0mself\u001b[0m\u001b[0;34m.\u001b[0m\u001b[0m_engine\u001b[0m \u001b[0;34m=\u001b[0m \u001b[0mself\u001b[0m\u001b[0;34m.\u001b[0m\u001b[0m_make_engine\u001b[0m\u001b[0;34m(\u001b[0m\u001b[0mf\u001b[0m\u001b[0;34m,\u001b[0m \u001b[0mself\u001b[0m\u001b[0;34m.\u001b[0m\u001b[0mengine\u001b[0m\u001b[0;34m)\u001b[0m\u001b[0;34m\u001b[0m\u001b[0;34m\u001b[0m\u001b[0m\n\u001b[0m\u001b[1;32m   1408\u001b[0m \u001b[0;34m\u001b[0m\u001b[0m\n\u001b[1;32m   1409\u001b[0m     \u001b[0;32mdef\u001b[0m \u001b[0mclose\u001b[0m\u001b[0;34m(\u001b[0m\u001b[0mself\u001b[0m\u001b[0;34m)\u001b[0m \u001b[0;34m->\u001b[0m \u001b[0;32mNone\u001b[0m\u001b[0;34m:\u001b[0m\u001b[0;34m\u001b[0m\u001b[0;34m\u001b[0m\u001b[0m\n",
            "\u001b[0;32m/usr/local/lib/python3.10/dist-packages/pandas/io/parsers/readers.py\u001b[0m in \u001b[0;36m_make_engine\u001b[0;34m(self, f, engine)\u001b[0m\n\u001b[1;32m   1659\u001b[0m                 \u001b[0;32mif\u001b[0m \u001b[0;34m\"b\"\u001b[0m \u001b[0;32mnot\u001b[0m \u001b[0;32min\u001b[0m \u001b[0mmode\u001b[0m\u001b[0;34m:\u001b[0m\u001b[0;34m\u001b[0m\u001b[0;34m\u001b[0m\u001b[0m\n\u001b[1;32m   1660\u001b[0m                     \u001b[0mmode\u001b[0m \u001b[0;34m+=\u001b[0m \u001b[0;34m\"b\"\u001b[0m\u001b[0;34m\u001b[0m\u001b[0;34m\u001b[0m\u001b[0m\n\u001b[0;32m-> 1661\u001b[0;31m             self.handles = get_handle(\n\u001b[0m\u001b[1;32m   1662\u001b[0m                 \u001b[0mf\u001b[0m\u001b[0;34m,\u001b[0m\u001b[0;34m\u001b[0m\u001b[0;34m\u001b[0m\u001b[0m\n\u001b[1;32m   1663\u001b[0m                 \u001b[0mmode\u001b[0m\u001b[0;34m,\u001b[0m\u001b[0;34m\u001b[0m\u001b[0;34m\u001b[0m\u001b[0m\n",
            "\u001b[0;32m/usr/local/lib/python3.10/dist-packages/pandas/io/common.py\u001b[0m in \u001b[0;36mget_handle\u001b[0;34m(path_or_buf, mode, encoding, compression, memory_map, is_text, errors, storage_options)\u001b[0m\n\u001b[1;32m    857\u001b[0m         \u001b[0;32mif\u001b[0m \u001b[0mioargs\u001b[0m\u001b[0;34m.\u001b[0m\u001b[0mencoding\u001b[0m \u001b[0;32mand\u001b[0m \u001b[0;34m\"b\"\u001b[0m \u001b[0;32mnot\u001b[0m \u001b[0;32min\u001b[0m \u001b[0mioargs\u001b[0m\u001b[0;34m.\u001b[0m\u001b[0mmode\u001b[0m\u001b[0;34m:\u001b[0m\u001b[0;34m\u001b[0m\u001b[0;34m\u001b[0m\u001b[0m\n\u001b[1;32m    858\u001b[0m             \u001b[0;31m# Encoding\u001b[0m\u001b[0;34m\u001b[0m\u001b[0;34m\u001b[0m\u001b[0m\n\u001b[0;32m--> 859\u001b[0;31m             handle = open(\n\u001b[0m\u001b[1;32m    860\u001b[0m                 \u001b[0mhandle\u001b[0m\u001b[0;34m,\u001b[0m\u001b[0;34m\u001b[0m\u001b[0;34m\u001b[0m\u001b[0m\n\u001b[1;32m    861\u001b[0m                 \u001b[0mioargs\u001b[0m\u001b[0;34m.\u001b[0m\u001b[0mmode\u001b[0m\u001b[0;34m,\u001b[0m\u001b[0;34m\u001b[0m\u001b[0;34m\u001b[0m\u001b[0m\n",
            "\u001b[0;31mFileNotFoundError\u001b[0m: [Errno 2] No such file or directory: 'dataset_market_basket.csv'"
          ]
        }
      ],
      "source": [
        "df = pd.read_csv(\"market_basket.csv\")\n",
        "df"
      ]
    },
    {
      "cell_type": "code",
      "execution_count": null,
      "metadata": {
        "id": "GFir9D5RR7bu"
      },
      "outputs": [],
      "source": [
        "# 1 Item set\n",
        "df.sum()"
      ]
    },
    {
      "cell_type": "code",
      "execution_count": null,
      "metadata": {
        "id": "paffwPSzSBwf"
      },
      "outputs": [],
      "source": [
        "# Itemnya ada apa aja si\n",
        "df.columns"
      ]
    },
    {
      "cell_type": "code",
      "execution_count": null,
      "metadata": {
        "id": "1G7JouHiSI23"
      },
      "outputs": [],
      "source": [
        "# 2 Item set\n",
        "from itertools import permutations\n",
        "\n",
        "# Extract unique items.\n",
        "rules = list(permutations(df.columns, 2))\n",
        "rules"
      ]
    },
    {
      "cell_type": "code",
      "execution_count": null,
      "metadata": {
        "id": "kjp9XdbbSO5M"
      },
      "outputs": [],
      "source": [
        "# Filter yang ada isinya aja yang dihitung\n",
        "rule_baru = []\n",
        "for rule in rules:\n",
        "  # Memfilter dengan nama kolom\n",
        "  if len(df[(df[rule[0]]==1) & (df[rule[1]]==1)]) >0:\n",
        "    rule_baru.append(rule)\n",
        "rule_baru"
      ]
    },
    {
      "cell_type": "code",
      "execution_count": null,
      "metadata": {
        "id": "XQ70xD13STh0"
      },
      "outputs": [],
      "source": [
        "hitung = {} #Ganti dictionary\n",
        "for rule in rule_baru:\n",
        "  banyak_data= len(df[\n",
        "      (df[rule[0]]==1) & (df[rule[1]]==1)\n",
        "      ])\n",
        "  hitung[str(rule)] = banyak_data\n",
        "\n",
        "hitung"
      ]
    },
    {
      "cell_type": "code",
      "execution_count": null,
      "metadata": {
        "id": "wVLcPg3ASZfr"
      },
      "outputs": [],
      "source": [
        "len(df)"
      ]
    },
    {
      "cell_type": "code",
      "execution_count": null,
      "metadata": {
        "id": "7FcnLtLiSdvd"
      },
      "outputs": [],
      "source": [
        "# List support\n",
        "# supp = [i/len(df)*100 for i in hitung.values()]\n",
        "# print(supp)\n",
        "\n",
        "\n",
        "print(\"---\")\n",
        "for item,ab in hitung.items():\n",
        "  print(f\"{item} support = {ab/len(df)*100}%\")"
      ]
    },
    {
      "cell_type": "code",
      "execution_count": null,
      "metadata": {
        "id": "NfW5fkSTSlAz"
      },
      "outputs": [],
      "source": [
        "# List Confidens\n",
        "# print([ab/df[kolom[0]].sum()*100 for ab,kolom in zip(hitung,rules)])\n",
        "\n",
        "print(\"---\")\n",
        "for item,ab in hitung.items():\n",
        "  #\"A->B\"\n",
        "  i = eval(item) #Ubah ke list dari string\n",
        "  print(f\"{i[0]}->{i[1]}  Confidence = {ab/df[i[0]].sum()*100}%\")"
      ]
    },
    {
      "cell_type": "markdown",
      "metadata": {
        "id": "wEgfTlH7xlgG"
      },
      "source": [
        "# (2) KNN\n",
        "\n",
        "Gunakan dataset ini : https://drive.google.com/file/d/1pXAJZZXCXosf0PTJkyogopKaPFxCYl22/view?usp=share_link\n",
        "\n",
        "Kemudian buatlah tabel jarak berdasarkan data berikut ini :\n",
        "\n",
        "![Gambar](data:image/png;base64,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)\n",
        "<!-- 1412 -->"
      ]
    },
    {
      "cell_type": "markdown",
      "metadata": {
        "id": "VaErpKH4dB6y"
      },
      "source": [
        "Menampilkan Data\n",
        "\n"
      ]
    },
    {
      "cell_type": "code",
      "execution_count": 1,
      "metadata": {
        "colab": {
          "base_uri": "https://localhost:8080/",
          "height": 356
        },
        "id": "09vio_0B1KQk",
        "outputId": "95df552f-e415-48c1-94af-f6f96233eb7d"
      },
      "outputs": [
        {
          "ename": "FileNotFoundError",
          "evalue": "[Errno 2] No such file or directory: 'deteksi_uang_palsu.csv'",
          "output_type": "error",
          "traceback": [
            "\u001b[0;31m---------------------------------------------------------------------------\u001b[0m",
            "\u001b[0;31mFileNotFoundError\u001b[0m                         Traceback (most recent call last)",
            "\u001b[0;32m<ipython-input-1-ee09d08f50bc>\u001b[0m in \u001b[0;36m<cell line: 3>\u001b[0;34m()\u001b[0m\n\u001b[1;32m      1\u001b[0m \u001b[0;32mimport\u001b[0m \u001b[0mpandas\u001b[0m \u001b[0;32mas\u001b[0m \u001b[0mpd\u001b[0m\u001b[0;34m\u001b[0m\u001b[0;34m\u001b[0m\u001b[0m\n\u001b[1;32m      2\u001b[0m \u001b[0;34m\u001b[0m\u001b[0m\n\u001b[0;32m----> 3\u001b[0;31m \u001b[0mdf2\u001b[0m \u001b[0;34m=\u001b[0m \u001b[0mpd\u001b[0m\u001b[0;34m.\u001b[0m\u001b[0mread_csv\u001b[0m\u001b[0;34m(\u001b[0m\u001b[0;34m\"deteksi_uang_palsu.csv\"\u001b[0m\u001b[0;34m)\u001b[0m\u001b[0;34m\u001b[0m\u001b[0;34m\u001b[0m\u001b[0m\n\u001b[0m\u001b[1;32m      4\u001b[0m \u001b[0mdf2\u001b[0m\u001b[0;34m\u001b[0m\u001b[0;34m\u001b[0m\u001b[0m\n",
            "\u001b[0;32m/usr/local/lib/python3.10/dist-packages/pandas/io/parsers/readers.py\u001b[0m in \u001b[0;36mread_csv\u001b[0;34m(filepath_or_buffer, sep, delimiter, header, names, index_col, usecols, dtype, engine, converters, true_values, false_values, skipinitialspace, skiprows, skipfooter, nrows, na_values, keep_default_na, na_filter, verbose, skip_blank_lines, parse_dates, infer_datetime_format, keep_date_col, date_parser, date_format, dayfirst, cache_dates, iterator, chunksize, compression, thousands, decimal, lineterminator, quotechar, quoting, doublequote, escapechar, comment, encoding, encoding_errors, dialect, on_bad_lines, delim_whitespace, low_memory, memory_map, float_precision, storage_options, dtype_backend)\u001b[0m\n\u001b[1;32m    910\u001b[0m     \u001b[0mkwds\u001b[0m\u001b[0;34m.\u001b[0m\u001b[0mupdate\u001b[0m\u001b[0;34m(\u001b[0m\u001b[0mkwds_defaults\u001b[0m\u001b[0;34m)\u001b[0m\u001b[0;34m\u001b[0m\u001b[0;34m\u001b[0m\u001b[0m\n\u001b[1;32m    911\u001b[0m \u001b[0;34m\u001b[0m\u001b[0m\n\u001b[0;32m--> 912\u001b[0;31m     \u001b[0;32mreturn\u001b[0m \u001b[0m_read\u001b[0m\u001b[0;34m(\u001b[0m\u001b[0mfilepath_or_buffer\u001b[0m\u001b[0;34m,\u001b[0m \u001b[0mkwds\u001b[0m\u001b[0;34m)\u001b[0m\u001b[0;34m\u001b[0m\u001b[0;34m\u001b[0m\u001b[0m\n\u001b[0m\u001b[1;32m    913\u001b[0m \u001b[0;34m\u001b[0m\u001b[0m\n\u001b[1;32m    914\u001b[0m \u001b[0;34m\u001b[0m\u001b[0m\n",
            "\u001b[0;32m/usr/local/lib/python3.10/dist-packages/pandas/io/parsers/readers.py\u001b[0m in \u001b[0;36m_read\u001b[0;34m(filepath_or_buffer, kwds)\u001b[0m\n\u001b[1;32m    575\u001b[0m \u001b[0;34m\u001b[0m\u001b[0m\n\u001b[1;32m    576\u001b[0m     \u001b[0;31m# Create the parser.\u001b[0m\u001b[0;34m\u001b[0m\u001b[0;34m\u001b[0m\u001b[0m\n\u001b[0;32m--> 577\u001b[0;31m     \u001b[0mparser\u001b[0m \u001b[0;34m=\u001b[0m \u001b[0mTextFileReader\u001b[0m\u001b[0;34m(\u001b[0m\u001b[0mfilepath_or_buffer\u001b[0m\u001b[0;34m,\u001b[0m \u001b[0;34m**\u001b[0m\u001b[0mkwds\u001b[0m\u001b[0;34m)\u001b[0m\u001b[0;34m\u001b[0m\u001b[0;34m\u001b[0m\u001b[0m\n\u001b[0m\u001b[1;32m    578\u001b[0m \u001b[0;34m\u001b[0m\u001b[0m\n\u001b[1;32m    579\u001b[0m     \u001b[0;32mif\u001b[0m \u001b[0mchunksize\u001b[0m \u001b[0;32mor\u001b[0m \u001b[0miterator\u001b[0m\u001b[0;34m:\u001b[0m\u001b[0;34m\u001b[0m\u001b[0;34m\u001b[0m\u001b[0m\n",
            "\u001b[0;32m/usr/local/lib/python3.10/dist-packages/pandas/io/parsers/readers.py\u001b[0m in \u001b[0;36m__init__\u001b[0;34m(self, f, engine, **kwds)\u001b[0m\n\u001b[1;32m   1405\u001b[0m \u001b[0;34m\u001b[0m\u001b[0m\n\u001b[1;32m   1406\u001b[0m         \u001b[0mself\u001b[0m\u001b[0;34m.\u001b[0m\u001b[0mhandles\u001b[0m\u001b[0;34m:\u001b[0m \u001b[0mIOHandles\u001b[0m \u001b[0;34m|\u001b[0m \u001b[0;32mNone\u001b[0m \u001b[0;34m=\u001b[0m \u001b[0;32mNone\u001b[0m\u001b[0;34m\u001b[0m\u001b[0;34m\u001b[0m\u001b[0m\n\u001b[0;32m-> 1407\u001b[0;31m         \u001b[0mself\u001b[0m\u001b[0;34m.\u001b[0m\u001b[0m_engine\u001b[0m \u001b[0;34m=\u001b[0m \u001b[0mself\u001b[0m\u001b[0;34m.\u001b[0m\u001b[0m_make_engine\u001b[0m\u001b[0;34m(\u001b[0m\u001b[0mf\u001b[0m\u001b[0;34m,\u001b[0m \u001b[0mself\u001b[0m\u001b[0;34m.\u001b[0m\u001b[0mengine\u001b[0m\u001b[0;34m)\u001b[0m\u001b[0;34m\u001b[0m\u001b[0;34m\u001b[0m\u001b[0m\n\u001b[0m\u001b[1;32m   1408\u001b[0m \u001b[0;34m\u001b[0m\u001b[0m\n\u001b[1;32m   1409\u001b[0m     \u001b[0;32mdef\u001b[0m \u001b[0mclose\u001b[0m\u001b[0;34m(\u001b[0m\u001b[0mself\u001b[0m\u001b[0;34m)\u001b[0m \u001b[0;34m->\u001b[0m \u001b[0;32mNone\u001b[0m\u001b[0;34m:\u001b[0m\u001b[0;34m\u001b[0m\u001b[0;34m\u001b[0m\u001b[0m\n",
            "\u001b[0;32m/usr/local/lib/python3.10/dist-packages/pandas/io/parsers/readers.py\u001b[0m in \u001b[0;36m_make_engine\u001b[0;34m(self, f, engine)\u001b[0m\n\u001b[1;32m   1659\u001b[0m                 \u001b[0;32mif\u001b[0m \u001b[0;34m\"b\"\u001b[0m \u001b[0;32mnot\u001b[0m \u001b[0;32min\u001b[0m \u001b[0mmode\u001b[0m\u001b[0;34m:\u001b[0m\u001b[0;34m\u001b[0m\u001b[0;34m\u001b[0m\u001b[0m\n\u001b[1;32m   1660\u001b[0m                     \u001b[0mmode\u001b[0m \u001b[0;34m+=\u001b[0m \u001b[0;34m\"b\"\u001b[0m\u001b[0;34m\u001b[0m\u001b[0;34m\u001b[0m\u001b[0m\n\u001b[0;32m-> 1661\u001b[0;31m             self.handles = get_handle(\n\u001b[0m\u001b[1;32m   1662\u001b[0m                 \u001b[0mf\u001b[0m\u001b[0;34m,\u001b[0m\u001b[0;34m\u001b[0m\u001b[0;34m\u001b[0m\u001b[0m\n\u001b[1;32m   1663\u001b[0m                 \u001b[0mmode\u001b[0m\u001b[0;34m,\u001b[0m\u001b[0;34m\u001b[0m\u001b[0;34m\u001b[0m\u001b[0m\n",
            "\u001b[0;32m/usr/local/lib/python3.10/dist-packages/pandas/io/common.py\u001b[0m in \u001b[0;36mget_handle\u001b[0;34m(path_or_buf, mode, encoding, compression, memory_map, is_text, errors, storage_options)\u001b[0m\n\u001b[1;32m    857\u001b[0m         \u001b[0;32mif\u001b[0m \u001b[0mioargs\u001b[0m\u001b[0;34m.\u001b[0m\u001b[0mencoding\u001b[0m \u001b[0;32mand\u001b[0m \u001b[0;34m\"b\"\u001b[0m \u001b[0;32mnot\u001b[0m \u001b[0;32min\u001b[0m \u001b[0mioargs\u001b[0m\u001b[0;34m.\u001b[0m\u001b[0mmode\u001b[0m\u001b[0;34m:\u001b[0m\u001b[0;34m\u001b[0m\u001b[0;34m\u001b[0m\u001b[0m\n\u001b[1;32m    858\u001b[0m             \u001b[0;31m# Encoding\u001b[0m\u001b[0;34m\u001b[0m\u001b[0;34m\u001b[0m\u001b[0m\n\u001b[0;32m--> 859\u001b[0;31m             handle = open(\n\u001b[0m\u001b[1;32m    860\u001b[0m                 \u001b[0mhandle\u001b[0m\u001b[0;34m,\u001b[0m\u001b[0;34m\u001b[0m\u001b[0;34m\u001b[0m\u001b[0m\n\u001b[1;32m    861\u001b[0m                 \u001b[0mioargs\u001b[0m\u001b[0;34m.\u001b[0m\u001b[0mmode\u001b[0m\u001b[0;34m,\u001b[0m\u001b[0;34m\u001b[0m\u001b[0;34m\u001b[0m\u001b[0m\n",
            "\u001b[0;31mFileNotFoundError\u001b[0m: [Errno 2] No such file or directory: 'deteksi_uang_palsu.csv'"
          ]
        }
      ],
      "source": [
        "import pandas as pd\n",
        "\n",
        "df2 = pd.read_csv(\"deteksi_uang_palsu.csv\")\n",
        "df2"
      ]
    },
    {
      "cell_type": "markdown",
      "metadata": {
        "id": "2AsSCG-qP8xc"
      },
      "source": [
        "1.   Membuat tabel jarak berdasarkan data baru yang ingin ditambahkan\n",
        "\n",
        "\n",
        "\n"
      ]
    },
    {
      "cell_type": "code",
      "execution_count": null,
      "metadata": {
        "colab": {
          "base_uri": "https://localhost:8080/"
        },
        "id": "9y7T29g2UBE1",
        "outputId": "46ff8545-3751-4f75-b78c-8ff2bf805891"
      },
      "outputs": [
        {
          "ename": "NameError",
          "evalue": "ignored",
          "output_type": "error",
          "traceback": [
            "\u001b[0;31m---------------------------------------------------------------------------\u001b[0m",
            "\u001b[0;31mNameError\u001b[0m                                 Traceback (most recent call last)",
            "\u001b[0;32m<ipython-input-26-51e8e86aafac>\u001b[0m in \u001b[0;36m<cell line: 13>\u001b[0;34m()\u001b[0m\n\u001b[1;32m     11\u001b[0m \u001b[0;31m# menghitung jarak antara setiap baris dataframe utama dengan dataframe data baru\u001b[0m\u001b[0;34m\u001b[0m\u001b[0;34m\u001b[0m\u001b[0m\n\u001b[1;32m     12\u001b[0m \u001b[0mjarak\u001b[0m \u001b[0;34m=\u001b[0m \u001b[0;34m[\u001b[0m\u001b[0;34m]\u001b[0m\u001b[0;34m\u001b[0m\u001b[0;34m\u001b[0m\u001b[0m\n\u001b[0;32m---> 13\u001b[0;31m \u001b[0;32mfor\u001b[0m \u001b[0mi\u001b[0m \u001b[0;32min\u001b[0m \u001b[0mrange\u001b[0m\u001b[0;34m(\u001b[0m\u001b[0mlen\u001b[0m\u001b[0;34m(\u001b[0m\u001b[0mdf2\u001b[0m\u001b[0;34m)\u001b[0m\u001b[0;34m)\u001b[0m\u001b[0;34m:\u001b[0m\u001b[0;34m\u001b[0m\u001b[0;34m\u001b[0m\u001b[0m\n\u001b[0m\u001b[1;32m     14\u001b[0m     \u001b[0mrow\u001b[0m \u001b[0;34m=\u001b[0m \u001b[0mdf2\u001b[0m\u001b[0;34m.\u001b[0m\u001b[0miloc\u001b[0m\u001b[0;34m[\u001b[0m\u001b[0mi\u001b[0m\u001b[0;34m]\u001b[0m\u001b[0;34m\u001b[0m\u001b[0;34m\u001b[0m\u001b[0m\n\u001b[1;32m     15\u001b[0m     distance = np.sqrt((row['diagonal'] - new_data['diagonal']) ** 2 +\n",
            "\u001b[0;31mNameError\u001b[0m: name 'df2' is not defined"
          ]
        }
      ],
      "source": [
        "import numpy as np\n",
        "\n",
        "# membuat dataframe dari data baru\n",
        "new_data = pd.DataFrame({'diagonal'    : [172.25],\n",
        "                         'height_left' : [103.94],\n",
        "                         'height_right': [103.68],\n",
        "                         'margin_low'  : [4.14],\n",
        "                         'margin_up'   : [3.25],\n",
        "                         'length'      : [112.48]})\n",
        "\n",
        "# menghitung jarak antara setiap baris dataframe utama dengan dataframe data baru\n",
        "jarak = []\n",
        "for i in range(len(df2)):\n",
        "    row = df2.iloc[i]\n",
        "    distance = np.sqrt((row['diagonal'] - new_data['diagonal']) ** 2 +\n",
        "                       (row['height_left'] - new_data['height_left']) ** 2 +\n",
        "                       (row['height_right'] - new_data['height_right']) ** 2 +\n",
        "                       (row['margin_low'] - new_data['margin_low']) ** 2 +\n",
        "                       (row['margin_up'] - new_data['margin_up']) ** 2 +\n",
        "                       (row['length'] - new_data['length']) ** 2)\n",
        "    jarak.append(distance)\n",
        "\n",
        "# Menambahkan kolom distance ke dataframe utama\n",
        "df2['distance'] = jarak\n",
        "\n",
        "# Menampilkan tabel jarak\n",
        "print('Tabel Jarak : ')\n",
        "print(df2['distance'])"
      ]
    },
    {
      "cell_type": "markdown",
      "metadata": {
        "id": "A9GdSMHk4zA0"
      },
      "source": [
        "2.   Mengurutkan data berdasarkan K jarak terdekat (dengan k = akar 2 dari banyak data)\n",
        "\n"
      ]
    },
    {
      "cell_type": "code",
      "execution_count": null,
      "metadata": {
        "id": "DgeVwMEX2JZi"
      },
      "outputs": [],
      "source": [
        "# Menghitung jarak antara setiap baris dataframe utama dengan dataframe data baru\n",
        "df2['distance'] = np.sqrt(\n",
        "    (df2['diagonal'] - 172.25)**2\n",
        "    + (df2['height_left'] - 103.94)**2\n",
        "    + (df2['height_right'] - 103.68)**2\n",
        "    + (df2['margin_low'] - 4.14)**2\n",
        "    + (df2['margin_up'] - 3.25)**2\n",
        "    + (df2['length'] - 112.48)**2\n",
        ")\n",
        "\n",
        "# Mengurutkan data dari kecil ke besar dan menentukan data terdekat\n",
        "k = int(np.sqrt(len(df2)))\n",
        "data_terdekat = df2.sort_values('distance').head(k)\n",
        "\n",
        "# Menampilkan data terdekat\n",
        "print(data_terdekat)"
      ]
    },
    {
      "cell_type": "markdown",
      "metadata": {
        "id": "FvC-fi4NWIGT"
      },
      "source": [
        "3.   Menentukan hasil prediksi berdasarkan label terbanyak\n",
        "\n",
        "\n",
        "\n"
      ]
    },
    {
      "cell_type": "code",
      "execution_count": null,
      "metadata": {
        "id": "JAho0GXZ2QeD"
      },
      "outputs": [],
      "source": [
        "# Mengimpor library sklearn untuk menggunakan algoritma KNN\n",
        "from sklearn.neighbors import KNeighborsClassifier\n",
        "\n",
        "# Split data menjadi data training dan data testing\n",
        "X_train = df2.drop(columns=['is_genuine','distance'],axis=1)\n",
        "y_train = df2['is_genuine']\n",
        "\n",
        "# inisiasi data baru menjadi data tes\n",
        "test_data = new_data\n",
        "\n",
        "# membuat variabel knn yang berisikan algoritma KNN dengan nilai K = akar 2 dari banyak data\n",
        "knn = KNeighborsClassifier(n_neighbors=K)\n",
        "\n",
        "# melatih knn dengan data training\n",
        "knn.fit(X_train, y_train)\n",
        "\n",
        "# memprediksi hasil\n",
        "prediksi = knn.predict(test_data)\n",
        "\n",
        "print(\"Hasil = \"+ ' '.join(map(str, prediksi)))\n"
      ]
    },
    {
      "cell_type": "markdown",
      "metadata": {
        "id": "F0N-LXThwiqD"
      },
      "source": [
        "# (3) Analisis"
      ]
    },
    {
      "cell_type": "markdown",
      "metadata": {
        "id": "dItRdcTguaHj"
      },
      "source": [
        "> Nama : Hadi Prasetiyo\n",
        "\n",
        "> Nim : 2109116070\n"
      ]
    },
    {
      "cell_type": "markdown",
      "metadata": {
        "id": "Vbv4o0Q2uiXZ"
      },
      "source": [
        "Penjelasan posttest :\n",
        "\n",
        "Pilihlah salah satu tema dari daftar tema ini :  \n",
        "1. Perbankan\n",
        "2. Kesehatan\n",
        "3. Ritel\n",
        "4. Pendidkan\n",
        "\n",
        "Kemudian lakukan analisis dengan menggunakan struktur CRISP-DM\n",
        "\n",
        "Dimulai dari Business Understanding Hingga Data Preparation\n",
        "<img src=\"https://th.bing.com/th/id/R.f8efea41ae3cd96d86fbc5b10f81ad77?rik=K4Dr%2biIaVGvW8g&riu=http%3a%2f%2fwww.dataprix.com%2ffiles%2fCRISPDM%2fMetodologia_CRISP_DM1_html_52cdbecf.png&ehk=6ONLJMCVxE421Sjt2JJPE6MfCzrL7LLhDZQPdkJTLcw%3d&risl=&pid=ImgRaw&r=0\"/>\n",
        "\n",
        "Tentukan judul dengan ketentuan setiap orang di kelas beda-beda judulnya dan sumber datasetnya (contoh bisa prediksi atau aturan asosiasi)\n",
        "\n",
        "Catatan : Tugas ini akan berhubungan dengan posttest terakhir (pertemuan 6)"
      ]
    },
    {
      "cell_type": "markdown",
      "metadata": {
        "id": "oLHFHmN1he5p"
      },
      "source": [
        "Analisis dengan menggunakan struktur CRISP-DM\n",
        "\n",
        "\n",
        "\n"
      ]
    },
    {
      "cell_type": "markdown",
      "metadata": {
        "id": "XMToUCsOFVYe"
      },
      "source": [
        "# Business Understanding"
      ]
    },
    {
      "cell_type": "markdown",
      "metadata": {
        "id": "OTcJkkZ7UeFB"
      },
      "source": [
        "\n",
        "\n",
        "1.   Pemahaman Bisnis\n",
        "\n",
        "Perusahaan ini dapat menggunakan data ini untuk melakukan analisis premi asuransi mereka dan membuat penyesuaian harga berdasarkan data.\n",
        "\n",
        "2.   Menilai Situasi\n",
        "\n",
        "Kasus ini adalah perusahaan asuransi yang sedang beradaptasi dengan memanfaatkan teknologi baru berdasarkan data.\n",
        "\n",
        "3.   Menentukan Tujuan\n",
        "\n",
        "Tujuan data ini dibuat untuk melakukan prediksi terhadap biaya premi asuransi, memahami penjaminan risiko dalam asuransi kesehatan dan melihat bagaimana pengaruhnya terhadap premi asuransi.\n",
        "\n",
        "4.   Membuat Rencana Proyek\n",
        "\n",
        "Rencana proyek ini adalah menentukan permasalahan bagaimana dataset ini akan membantu permasalahan pada perusahaan ini, mengumpulkan dan melakukan data cleaning, melakukan data exploration, membuat model prediksi dan mengevaluasi efektivitas dari model prediksi atau solusi.\n",
        "\n",
        "\n"
      ]
    },
    {
      "cell_type": "markdown",
      "metadata": {
        "id": "0T6oEmW6Fn6D"
      },
      "source": [
        "# Data Understanding"
      ]
    },
    {
      "cell_type": "markdown",
      "metadata": {
        "id": "MBLdVUy2NyA8"
      },
      "source": [
        "> **Mengumpulkan Data Awal**\n",
        "\n",
        "Data yang dikumpulkan dari dataset adalah data dari hasil observasi pemilik dataset yang telah di upload pada Kaggle."
      ]
    },
    {
      "cell_type": "markdown",
      "metadata": {
        "id": "ZcQkm_4zONqr"
      },
      "source": [
        "\n",
        "\n",
        "**Deskripsi Data**\n",
        "\n",
        "\n",
        "*   Usia (Age)\n",
        "*   Jenis Kelamin (Sex)\n",
        "*   Body Mass Index (BMI)\n",
        "*   Jumlah anak yang dicover oleh asuransi (Children)\n",
        "*   Merokok atau Tidak Merokok (smoker)\n",
        "*   Daerah (Region)\n",
        "*   Biaya yang ditagih oleh asuransi (Charges)\n",
        "\n"
      ]
    },
    {
      "cell_type": "markdown",
      "metadata": {
        "id": "6hoUBHQKPR4Z"
      },
      "source": [
        "\n",
        "**Data Exploration**\n",
        "\n",
        "Dataset ini berisi 1338 baris data dan menggunakan atribut dataset campuran variabel numerik dan kategori."
      ]
    },
    {
      "cell_type": "code",
      "execution_count": null,
      "metadata": {
        "id": "60YIoej1igzv"
      },
      "outputs": [],
      "source": [
        "import pandas as pd"
      ]
    },
    {
      "cell_type": "code",
      "execution_count": null,
      "metadata": {
        "colab": {
          "background_save": true,
          "base_uri": "https://localhost:8080/"
        },
        "id": "JH9zgb-Ohd0v",
        "outputId": "7588ed8d-014c-4dcd-8101-92efe0f52cc8"
      },
      "outputs": [
        {
          "data": {
            "text/html": [
              "\n",
              "  <div id=\"df-da6561f2-888c-49fd-8b96-2883e0e7511f\">\n",
              "    <div class=\"colab-df-container\">\n",
              "      <div>\n",
              "<style scoped>\n",
              "    .dataframe tbody tr th:only-of-type {\n",
              "        vertical-align: middle;\n",
              "    }\n",
              "\n",
              "    .dataframe tbody tr th {\n",
              "        vertical-align: top;\n",
              "    }\n",
              "\n",
              "    .dataframe thead th {\n",
              "        text-align: right;\n",
              "    }\n",
              "</style>\n",
              "<table border=\"1\" class=\"dataframe\">\n",
              "  <thead>\n",
              "    <tr style=\"text-align: right;\">\n",
              "      <th></th>\n",
              "      <th>age</th>\n",
              "      <th>sex</th>\n",
              "      <th>bmi</th>\n",
              "      <th>children</th>\n",
              "      <th>smoker</th>\n",
              "      <th>region</th>\n",
              "      <th>charges</th>\n",
              "    </tr>\n",
              "  </thead>\n",
              "  <tbody>\n",
              "    <tr>\n",
              "      <th>0</th>\n",
              "      <td>19</td>\n",
              "      <td>female</td>\n",
              "      <td>27.900</td>\n",
              "      <td>0</td>\n",
              "      <td>yes</td>\n",
              "      <td>southwest</td>\n",
              "      <td>16884.92400</td>\n",
              "    </tr>\n",
              "    <tr>\n",
              "      <th>1</th>\n",
              "      <td>18</td>\n",
              "      <td>male</td>\n",
              "      <td>33.770</td>\n",
              "      <td>1</td>\n",
              "      <td>no</td>\n",
              "      <td>southeast</td>\n",
              "      <td>1725.55230</td>\n",
              "    </tr>\n",
              "    <tr>\n",
              "      <th>2</th>\n",
              "      <td>28</td>\n",
              "      <td>male</td>\n",
              "      <td>33.000</td>\n",
              "      <td>3</td>\n",
              "      <td>no</td>\n",
              "      <td>southeast</td>\n",
              "      <td>4449.46200</td>\n",
              "    </tr>\n",
              "    <tr>\n",
              "      <th>3</th>\n",
              "      <td>33</td>\n",
              "      <td>male</td>\n",
              "      <td>22.705</td>\n",
              "      <td>0</td>\n",
              "      <td>no</td>\n",
              "      <td>northwest</td>\n",
              "      <td>21984.47061</td>\n",
              "    </tr>\n",
              "    <tr>\n",
              "      <th>4</th>\n",
              "      <td>32</td>\n",
              "      <td>male</td>\n",
              "      <td>28.880</td>\n",
              "      <td>0</td>\n",
              "      <td>no</td>\n",
              "      <td>northwest</td>\n",
              "      <td>3866.85520</td>\n",
              "    </tr>\n",
              "    <tr>\n",
              "      <th>...</th>\n",
              "      <td>...</td>\n",
              "      <td>...</td>\n",
              "      <td>...</td>\n",
              "      <td>...</td>\n",
              "      <td>...</td>\n",
              "      <td>...</td>\n",
              "      <td>...</td>\n",
              "    </tr>\n",
              "    <tr>\n",
              "      <th>1333</th>\n",
              "      <td>50</td>\n",
              "      <td>male</td>\n",
              "      <td>30.970</td>\n",
              "      <td>3</td>\n",
              "      <td>no</td>\n",
              "      <td>northwest</td>\n",
              "      <td>10600.54830</td>\n",
              "    </tr>\n",
              "    <tr>\n",
              "      <th>1334</th>\n",
              "      <td>18</td>\n",
              "      <td>female</td>\n",
              "      <td>31.920</td>\n",
              "      <td>0</td>\n",
              "      <td>no</td>\n",
              "      <td>northeast</td>\n",
              "      <td>2205.98080</td>\n",
              "    </tr>\n",
              "    <tr>\n",
              "      <th>1335</th>\n",
              "      <td>18</td>\n",
              "      <td>female</td>\n",
              "      <td>36.850</td>\n",
              "      <td>0</td>\n",
              "      <td>no</td>\n",
              "      <td>southeast</td>\n",
              "      <td>1629.83350</td>\n",
              "    </tr>\n",
              "    <tr>\n",
              "      <th>1336</th>\n",
              "      <td>21</td>\n",
              "      <td>female</td>\n",
              "      <td>25.800</td>\n",
              "      <td>0</td>\n",
              "      <td>no</td>\n",
              "      <td>southwest</td>\n",
              "      <td>2007.94500</td>\n",
              "    </tr>\n",
              "    <tr>\n",
              "      <th>1337</th>\n",
              "      <td>61</td>\n",
              "      <td>female</td>\n",
              "      <td>29.070</td>\n",
              "      <td>0</td>\n",
              "      <td>yes</td>\n",
              "      <td>northwest</td>\n",
              "      <td>29141.36030</td>\n",
              "    </tr>\n",
              "  </tbody>\n",
              "</table>\n",
              "<p>1338 rows × 7 columns</p>\n",
              "</div>\n",
              "      <button class=\"colab-df-convert\" onclick=\"convertToInteractive('df-da6561f2-888c-49fd-8b96-2883e0e7511f')\"\n",
              "              title=\"Convert this dataframe to an interactive table.\"\n",
              "              style=\"display:none;\">\n",
              "        \n",
              "  <svg xmlns=\"http://www.w3.org/2000/svg\" height=\"24px\"viewBox=\"0 0 24 24\"\n",
              "       width=\"24px\">\n",
              "    <path d=\"M0 0h24v24H0V0z\" fill=\"none\"/>\n",
              "    <path d=\"M18.56 5.44l.94 2.06.94-2.06 2.06-.94-2.06-.94-.94-2.06-.94 2.06-2.06.94zm-11 1L8.5 8.5l.94-2.06 2.06-.94-2.06-.94L8.5 2.5l-.94 2.06-2.06.94zm10 10l.94 2.06.94-2.06 2.06-.94-2.06-.94-.94-2.06-.94 2.06-2.06.94z\"/><path d=\"M17.41 7.96l-1.37-1.37c-.4-.4-.92-.59-1.43-.59-.52 0-1.04.2-1.43.59L10.3 9.45l-7.72 7.72c-.78.78-.78 2.05 0 2.83L4 21.41c.39.39.9.59 1.41.59.51 0 1.02-.2 1.41-.59l7.78-7.78 2.81-2.81c.8-.78.8-2.07 0-2.86zM5.41 20L4 18.59l7.72-7.72 1.47 1.35L5.41 20z\"/>\n",
              "  </svg>\n",
              "      </button>\n",
              "      \n",
              "  <style>\n",
              "    .colab-df-container {\n",
              "      display:flex;\n",
              "      flex-wrap:wrap;\n",
              "      gap: 12px;\n",
              "    }\n",
              "\n",
              "    .colab-df-convert {\n",
              "      background-color: #E8F0FE;\n",
              "      border: none;\n",
              "      border-radius: 50%;\n",
              "      cursor: pointer;\n",
              "      display: none;\n",
              "      fill: #1967D2;\n",
              "      height: 32px;\n",
              "      padding: 0 0 0 0;\n",
              "      width: 32px;\n",
              "    }\n",
              "\n",
              "    .colab-df-convert:hover {\n",
              "      background-color: #E2EBFA;\n",
              "      box-shadow: 0px 1px 2px rgba(60, 64, 67, 0.3), 0px 1px 3px 1px rgba(60, 64, 67, 0.15);\n",
              "      fill: #174EA6;\n",
              "    }\n",
              "\n",
              "    [theme=dark] .colab-df-convert {\n",
              "      background-color: #3B4455;\n",
              "      fill: #D2E3FC;\n",
              "    }\n",
              "\n",
              "    [theme=dark] .colab-df-convert:hover {\n",
              "      background-color: #434B5C;\n",
              "      box-shadow: 0px 1px 3px 1px rgba(0, 0, 0, 0.15);\n",
              "      filter: drop-shadow(0px 1px 2px rgba(0, 0, 0, 0.3));\n",
              "      fill: #FFFFFF;\n",
              "    }\n",
              "  </style>\n",
              "\n",
              "      <script>\n",
              "        const buttonEl =\n",
              "          document.querySelector('#df-da6561f2-888c-49fd-8b96-2883e0e7511f button.colab-df-convert');\n",
              "        buttonEl.style.display =\n",
              "          google.colab.kernel.accessAllowed ? 'block' : 'none';\n",
              "\n",
              "        async function convertToInteractive(key) {\n",
              "          const element = document.querySelector('#df-da6561f2-888c-49fd-8b96-2883e0e7511f');\n",
              "          const dataTable =\n",
              "            await google.colab.kernel.invokeFunction('convertToInteractive',\n",
              "                                                     [key], {});\n",
              "          if (!dataTable) return;\n",
              "\n",
              "          const docLinkHtml = 'Like what you see? Visit the ' +\n",
              "            '<a target=\"_blank\" href=https://colab.research.google.com/notebooks/data_table.ipynb>data table notebook</a>'\n",
              "            + ' to learn more about interactive tables.';\n",
              "          element.innerHTML = '';\n",
              "          dataTable['output_type'] = 'display_data';\n",
              "          await google.colab.output.renderOutput(dataTable, element);\n",
              "          const docLink = document.createElement('div');\n",
              "          docLink.innerHTML = docLinkHtml;\n",
              "          element.appendChild(docLink);\n",
              "        }\n",
              "      </script>\n",
              "    </div>\n",
              "  </div>\n",
              "  "
            ],
            "text/plain": [
              "      age     sex     bmi  children smoker     region      charges\n",
              "0      19  female  27.900         0    yes  southwest  16884.92400\n",
              "1      18    male  33.770         1     no  southeast   1725.55230\n",
              "2      28    male  33.000         3     no  southeast   4449.46200\n",
              "3      33    male  22.705         0     no  northwest  21984.47061\n",
              "4      32    male  28.880         0     no  northwest   3866.85520\n",
              "...   ...     ...     ...       ...    ...        ...          ...\n",
              "1333   50    male  30.970         3     no  northwest  10600.54830\n",
              "1334   18  female  31.920         0     no  northeast   2205.98080\n",
              "1335   18  female  36.850         0     no  southeast   1629.83350\n",
              "1336   21  female  25.800         0     no  southwest   2007.94500\n",
              "1337   61  female  29.070         0    yes  northwest  29141.36030\n",
              "\n",
              "[1338 rows x 7 columns]"
            ]
          },
          "execution_count": 40,
          "metadata": {},
          "output_type": "execute_result"
        }
      ],
      "source": [
        "df3 = pd.read_csv(\"asuransi_perusahaan.csv\")\n",
        "df3"
      ]
    },
    {
      "cell_type": "code",
      "execution_count": null,
      "metadata": {
        "id": "q2AZHEhik9K-"
      },
      "outputs": [],
      "source": [
        "import plotly.express as px"
      ]
    },
    {
      "cell_type": "code",
      "execution_count": null,
      "metadata": {
        "id": "F62sovwanBnF"
      },
      "outputs": [],
      "source": [
        "px.pie(df3, names = \"sex\")"
      ]
    },
    {
      "cell_type": "code",
      "execution_count": null,
      "metadata": {
        "id": "Yw7HVSVBsW76"
      },
      "outputs": [],
      "source": [
        "sns.countplot(data=df3,x=\"region\")"
      ]
    },
    {
      "cell_type": "code",
      "execution_count": null,
      "metadata": {
        "id": "dKMApwv-LkL7"
      },
      "outputs": [],
      "source": [
        "df3.hist(\"charges\")"
      ]
    },
    {
      "cell_type": "markdown",
      "metadata": {
        "id": "hKaU5u2aNGpc"
      },
      "source": [
        "> Verifikasi Data\n",
        "\n",
        "Dari dataset yang sudah disajikan, tidak ditemukannya data yang error."
      ]
    },
    {
      "cell_type": "markdown",
      "metadata": {
        "id": "WFiJOC03QPfb"
      },
      "source": [
        "# Data Preparation"
      ]
    },
    {
      "cell_type": "markdown",
      "metadata": {
        "id": "8W5GIYmQQm9n"
      },
      "source": [
        "\n",
        "\n",
        "> Memilih Data\n",
        "\n",
        "Mengetahui faktor yang mempengaruhi premi asuransi, variabel yang relevan adalah jenis kelamin, usia, BMI, merokok/tidak merokok dan tagihan asuransi.\n"
      ]
    },
    {
      "cell_type": "code",
      "execution_count": null,
      "metadata": {
        "id": "mEbBzRulRrgv"
      },
      "outputs": [],
      "source": [
        "df3.drop_duplicates(subset=None, keep='first', inplace=False, ignore_index=False)"
      ]
    },
    {
      "cell_type": "markdown",
      "metadata": {
        "id": "YFuysb7aSABg"
      },
      "source": [
        "\n",
        "> Menyusun Data\n",
        "\n",
        "Dibawah ini merupakan construct data dengan metode transform, metode ini akan mengganti categori data dengan angka"
      ]
    },
    {
      "cell_type": "code",
      "execution_count": null,
      "metadata": {
        "id": "ieNvi1cdSZUM"
      },
      "outputs": [],
      "source": [
        "import numpy as np\n",
        "import pandas as pd\n",
        "\n",
        "df3 = pd.read_csv(\"asuransi_perusahaan.csv\")\n",
        "df3"
      ]
    },
    {
      "cell_type": "code",
      "execution_count": null,
      "metadata": {
        "id": "9AWqK1-HS3LL"
      },
      "outputs": [],
      "source": [
        "df3_categorical = df3.select_dtypes(exclude=[np.number])\n",
        "df3_categorical"
      ]
    },
    {
      "cell_type": "code",
      "execution_count": null,
      "metadata": {
        "id": "WP9_E-9CTBKV"
      },
      "outputs": [],
      "source": [
        "df3_categorical['sex'].unique()"
      ]
    },
    {
      "cell_type": "code",
      "execution_count": null,
      "metadata": {
        "id": "xL2SJ3tdTRAY"
      },
      "outputs": [],
      "source": [
        "df3_categorical.sex.value_counts()"
      ]
    },
    {
      "cell_type": "code",
      "execution_count": null,
      "metadata": {
        "id": "ta-65IeDTa44"
      },
      "outputs": [],
      "source": [
        "df3_categorical.sex.replace({\"female\":1, \"male\":2}, inplace= True)\n",
        "df3_categorical.smoker.replace({\"yes\":1, \"no\":2}, inplace= True)"
      ]
    },
    {
      "cell_type": "code",
      "execution_count": null,
      "metadata": {
        "id": "kg0b07ozTlgw"
      },
      "outputs": [],
      "source": [
        "df3_categorical.head()"
      ]
    },
    {
      "cell_type": "markdown",
      "metadata": {
        "id": "hXPJBRDRTu7Z"
      },
      "source": [
        "\n",
        "\n",
        "> Mengintegrasi Data\n",
        "\n",
        "Pada kasus ini hanya memiliki satu dataset yang sudah berisi semua data yang relevan untuk analisis Anda, maka integrasi data mungkin tidak diperlukan.\n",
        "\n"
      ]
    }
  ],
  "metadata": {
    "colab": {
      "collapsed_sections": [
        "-0zOQSl3wlwj"
      ],
      "include_colab_link": true,
      "provenance": [],
      "toc_visible": true
    },
    "kernelspec": {
      "display_name": "Python 3",
      "name": "python3"
    },
    "language_info": {
      "codemirror_mode": {
        "name": "ipython",
        "version": 3
      },
      "file_extension": ".py",
      "mimetype": "text/x-python",
      "name": "python",
      "nbconvert_exporter": "python",
      "pygments_lexer": "ipython3",
      "version": "3.9.6"
    }
  },
  "nbformat": 4,
  "nbformat_minor": 0
}
